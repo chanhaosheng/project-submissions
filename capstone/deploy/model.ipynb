{
 "cells": [
  {
   "cell_type": "code",
   "execution_count": 12,
   "id": "a7591067",
   "metadata": {},
   "outputs": [],
   "source": [
    "#!pip install pyarrow\n",
    "\n",
    "# import libraries\n",
    "import numpy as np\n",
    "import pandas as pd\n",
    "from lightgbm.sklearn import LGBMRanker\n",
    "import pickle\n",
    "\n",
    "\n",
    "# import preprocessed dataset\n",
    "train = pd.read_parquet('./train_deploy.parquet')\n",
    "\n",
    "\n",
    "def get_session_lengths(df):\n",
    "    return df.groupby('session')['session'].count().rename('session_length').to_numpy()\n",
    "\n",
    "session_lengths_train = get_session_lengths(train)\n",
    "\n",
    "feature_cols = train.columns[2:-2]\n",
    "target = 'ground_truth'\n",
    "\n",
    "X_train = train[feature_cols]\n",
    "y_train = train[target]\n",
    "\n",
    "\n",
    "# instantiate model\n",
    "ranker = LGBMRanker(\n",
    "    objective=\"lambdarank\",\n",
    "    metric=\"ndcg\",\n",
    "    boosting_type=\"dart\",\n",
    "    n_estimators=20,\n",
    "    importance_type='gain',\n",
    "    random_state=42\n",
    ")\n",
    "\n",
    "\n",
    "\n",
    "# fit to train\n",
    "ranker = ranker.fit(\n",
    "    X_train,\n",
    "    y_train,\n",
    "    group=session_lengths_train,\n",
    ")\n",
    "\n",
    "\n",
    "# saving model using pickle\n",
    "pickle.dump(ranker, open('model.pkl','wb'))"
   ]
  }
 ],
 "metadata": {
  "kernelspec": {
   "display_name": "Python 3 (ipykernel)",
   "language": "python",
   "name": "python3"
  },
  "language_info": {
   "codemirror_mode": {
    "name": "ipython",
    "version": 3
   },
   "file_extension": ".py",
   "mimetype": "text/x-python",
   "name": "python",
   "nbconvert_exporter": "python",
   "pygments_lexer": "ipython3",
   "version": "3.10.9"
  }
 },
 "nbformat": 4,
 "nbformat_minor": 5
}
