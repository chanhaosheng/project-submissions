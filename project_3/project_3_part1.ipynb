{
 "cells": [
  {
   "cell_type": "markdown",
   "id": "77307fc8",
   "metadata": {},
   "source": [
    "<img src=\"http://imgur.com/1ZcRyrc.png\" style=\"float: left; margin: 20px; height: 55px\">\n",
    "\n",
    "# Project 3 - Web APIs & NLP on Internet and Alcohol Addiction Subreddits <br> [Part 1 of 2]\n",
    "\n",
    "_Prepared by: Timothy Chan, 17 Mar 2023_"
   ]
  },
  {
   "cell_type": "markdown",
   "id": "9b1d9c3b",
   "metadata": {},
   "source": [
    "## Contents:\n",
    "- [Background](#Background)\n",
    "- [Data Collection](#Data-Collection)"
   ]
  },
  {
   "cell_type": "markdown",
   "id": "295387b5",
   "metadata": {},
   "source": [
    "---\n",
    "## Background\n",
    "---"
   ]
  },
  {
   "cell_type": "markdown",
   "id": "04101667",
   "metadata": {},
   "source": [
    "### Problem Statement"
   ]
  },
  {
   "cell_type": "markdown",
   "id": "216fe886",
   "metadata": {},
   "source": [
    "A non-profit organization aims to develop a chatbot to provide users with advice and resources on internet and alcohol addiction. To facilitate this, they require a model that can differentiate between the two addictions based on users' questions.\n",
    "\n",
    "Around [8% of the global population is addicted to the internet](https://techjury.net/blog/technology-addiction-statistics/), which can lead to negative consequences such as social isolation and health problems. Meanwhile, alcohol addiction has limited treatment options and can have a significant impact on individuals, families, and communities. [Over 70% of individuals with alcohol abuse will relapse at some point](https://www.therecoveryvillage.com/alcohol-abuse/alcohol-relapse-statistics/), and stigma may prevent them from seeking help. \n",
    "\n",
    "The organization plans to provide personalized advice and resources to users based on the addiction category detected from their question."
   ]
  },
  {
   "cell_type": "markdown",
   "id": "fee31cd0",
   "metadata": {},
   "source": [
    "**Approach**\n",
    "\n",
    "This is a natural language processing (NLP) binary classification problem. \n",
    "\n",
    "In **Part 1**, we will collect posts from `r/nosurf` and `r/stopdrinking` as proxy of internet and alcohol addiction topics using `Pushshift API`.\n",
    "\n",
    "For Data Cleaning, Processing, EDA, Modelling and Recommendations please refer to **Part 2**."
   ]
  },
  {
   "cell_type": "markdown",
   "id": "9289c289",
   "metadata": {},
   "source": [
    "---\n",
    "## Data Collection\n",
    "---"
   ]
  },
  {
   "cell_type": "markdown",
   "id": "82e316f2",
   "metadata": {},
   "source": [
    "Using `Postshift API`, we will collect posts from `r/nosurf` and `r/stopdrinking` as proxy of internet and alcohol addiction. 1,000 posts before UTC 2023-03-07 00:00:00 for both subreddits will be scraped for comparison.\n",
    "\n",
    "The posts were scraped on 8 Mar 2023 10.23pm Singapore time."
   ]
  },
  {
   "cell_type": "code",
   "execution_count": 5,
   "id": "38742c60",
   "metadata": {},
   "outputs": [],
   "source": [
    "import pandas as pd\n",
    "import requests\n",
    "import datetime\n",
    "import random\n",
    "import time"
   ]
  },
  {
   "cell_type": "code",
   "execution_count": 7,
   "id": "c6cd124f",
   "metadata": {},
   "outputs": [],
   "source": [
    "# Create function to extract Subreddit posts according to parameters\n",
    "def reddit_extract(subreddit, size, date_time):\n",
    "    url = 'https://api.pushshift.io/reddit/search/submission'\n",
    "    \n",
    "    # Convert the date string to a datetime object\n",
    "    before_datetime = datetime.datetime.strptime(date_time, '%Y-%m-%d %H:%M:%S')\n",
    "    \n",
    "    # Convert the datetime object to a Unix timestamp\n",
    "    before_timestamp = int(before_datetime.timestamp())\n",
    "    \n",
    "    # Set the API parameters\n",
    "    params = {\n",
    "        'subreddit': subreddit, # subreddit name\n",
    "        'size': size, # number of posts\n",
    "        'before': before_timestamp # run only before this timestamp\n",
    "    }\n",
    "    \n",
    "    # Make the API request and retrieve the data\n",
    "    res = requests.get(url, params)\n",
    "    data = res.json()['data']\n",
    "    \n",
    "    # Extract the desired columns and return the data as a DataFrame\n",
    "    df = pd.DataFrame(data)[['subreddit', 'title', 'selftext', 'utc_datetime_str', 'created_utc']]\n",
    "    \n",
    "    # Print number of rows\n",
    "    print(f\"Subreddit: {subreddit} | Number of rows: {len(df)}\")\n",
    "    \n",
    "    # Print number of rows\n",
    "    for index, row in df.iterrows():\n",
    "        time.sleep(random.randint(1, 3)) # Randomly pause between 1 to 3 seconds\n",
    "    \n",
    "    return df"
   ]
  },
  {
   "cell_type": "code",
   "execution_count": 8,
   "id": "53d859b1",
   "metadata": {},
   "outputs": [
    {
     "name": "stdout",
     "output_type": "stream",
     "text": [
      "Subreddit: nosurf | Number of rows: 1000\n"
     ]
    }
   ],
   "source": [
    "# Extract subreddit\n",
    "df_nosurf = reddit_extract('nosurf', 1000, '2023-03-07 00:00:00')"
   ]
  },
  {
   "cell_type": "code",
   "execution_count": 9,
   "id": "7128624c",
   "metadata": {},
   "outputs": [
    {
     "data": {
      "text/html": [
       "<div>\n",
       "<style scoped>\n",
       "    .dataframe tbody tr th:only-of-type {\n",
       "        vertical-align: middle;\n",
       "    }\n",
       "\n",
       "    .dataframe tbody tr th {\n",
       "        vertical-align: top;\n",
       "    }\n",
       "\n",
       "    .dataframe thead th {\n",
       "        text-align: right;\n",
       "    }\n",
       "</style>\n",
       "<table border=\"1\" class=\"dataframe\">\n",
       "  <thead>\n",
       "    <tr style=\"text-align: right;\">\n",
       "      <th></th>\n",
       "      <th>subreddit</th>\n",
       "      <th>title</th>\n",
       "      <th>selftext</th>\n",
       "      <th>utc_datetime_str</th>\n",
       "      <th>created_utc</th>\n",
       "    </tr>\n",
       "  </thead>\n",
       "  <tbody>\n",
       "    <tr>\n",
       "      <th>0</th>\n",
       "      <td>nosurf</td>\n",
       "      <td>How to stop using the Internet as a coping mec...</td>\n",
       "      <td>Basically, I have a bad habit of using the Int...</td>\n",
       "      <td>2023-03-06 15:58:17</td>\n",
       "      <td>1678118297</td>\n",
       "    </tr>\n",
       "    <tr>\n",
       "      <th>1</th>\n",
       "      <td>nosurf</td>\n",
       "      <td>The more time I spend away from YouTube and ot...</td>\n",
       "      <td>Content blockers and other restrictions have h...</td>\n",
       "      <td>2023-03-06 13:31:16</td>\n",
       "      <td>1678109476</td>\n",
       "    </tr>\n",
       "    <tr>\n",
       "      <th>2</th>\n",
       "      <td>nosurf</td>\n",
       "      <td>Save your memories in a safe space that won't ...</td>\n",
       "      <td>We hate social media, so in the last 4 years w...</td>\n",
       "      <td>2023-03-06 11:49:33</td>\n",
       "      <td>1678103373</td>\n",
       "    </tr>\n",
       "    <tr>\n",
       "      <th>3</th>\n",
       "      <td>nosurf</td>\n",
       "      <td>How Do I delete the internet from my Iphone?</td>\n",
       "      <td></td>\n",
       "      <td>2023-03-06 08:38:32</td>\n",
       "      <td>1678091912</td>\n",
       "    </tr>\n",
       "    <tr>\n",
       "      <th>4</th>\n",
       "      <td>nosurf</td>\n",
       "      <td>2020 vs 2023 me</td>\n",
       "      <td>Damn how much I've improved is astounding. My ...</td>\n",
       "      <td>2023-03-06 02:13:58</td>\n",
       "      <td>1678068838</td>\n",
       "    </tr>\n",
       "  </tbody>\n",
       "</table>\n",
       "</div>"
      ],
      "text/plain": [
       "  subreddit                                              title  \\\n",
       "0    nosurf  How to stop using the Internet as a coping mec...   \n",
       "1    nosurf  The more time I spend away from YouTube and ot...   \n",
       "2    nosurf  Save your memories in a safe space that won't ...   \n",
       "3    nosurf       How Do I delete the internet from my Iphone?   \n",
       "4    nosurf                                    2020 vs 2023 me   \n",
       "\n",
       "                                            selftext     utc_datetime_str  \\\n",
       "0  Basically, I have a bad habit of using the Int...  2023-03-06 15:58:17   \n",
       "1  Content blockers and other restrictions have h...  2023-03-06 13:31:16   \n",
       "2  We hate social media, so in the last 4 years w...  2023-03-06 11:49:33   \n",
       "3                                                     2023-03-06 08:38:32   \n",
       "4  Damn how much I've improved is astounding. My ...  2023-03-06 02:13:58   \n",
       "\n",
       "   created_utc  \n",
       "0   1678118297  \n",
       "1   1678109476  \n",
       "2   1678103373  \n",
       "3   1678091912  \n",
       "4   1678068838  "
      ]
     },
     "execution_count": 9,
     "metadata": {},
     "output_type": "execute_result"
    }
   ],
   "source": [
    "# Check first 5 rows\n",
    "df_nosurf.head()"
   ]
  },
  {
   "cell_type": "code",
   "execution_count": 13,
   "id": "16e15692",
   "metadata": {},
   "outputs": [
    {
     "data": {
      "text/html": [
       "<div>\n",
       "<style scoped>\n",
       "    .dataframe tbody tr th:only-of-type {\n",
       "        vertical-align: middle;\n",
       "    }\n",
       "\n",
       "    .dataframe tbody tr th {\n",
       "        vertical-align: top;\n",
       "    }\n",
       "\n",
       "    .dataframe thead th {\n",
       "        text-align: right;\n",
       "    }\n",
       "</style>\n",
       "<table border=\"1\" class=\"dataframe\">\n",
       "  <thead>\n",
       "    <tr style=\"text-align: right;\">\n",
       "      <th></th>\n",
       "      <th>subreddit</th>\n",
       "      <th>title</th>\n",
       "      <th>selftext</th>\n",
       "      <th>utc_datetime_str</th>\n",
       "      <th>created_utc</th>\n",
       "    </tr>\n",
       "  </thead>\n",
       "  <tbody>\n",
       "    <tr>\n",
       "      <th>995</th>\n",
       "      <td>nosurf</td>\n",
       "      <td>I’m addicted to reddit because it’s the only p...</td>\n",
       "      <td>TLDR: I’m living a lie, and it’s preventing me...</td>\n",
       "      <td>2022-12-28 23:38:16</td>\n",
       "      <td>1672270696</td>\n",
       "    </tr>\n",
       "    <tr>\n",
       "      <th>996</th>\n",
       "      <td>nosurf</td>\n",
       "      <td>In couple days ill be offline for 1 year no ho...</td>\n",
       "      <td>so i realised how much my life is taken over b...</td>\n",
       "      <td>2022-12-28 23:33:43</td>\n",
       "      <td>1672270423</td>\n",
       "    </tr>\n",
       "    <tr>\n",
       "      <th>997</th>\n",
       "      <td>nosurf</td>\n",
       "      <td>I live in Japan and I want to leave social med...</td>\n",
       "      <td>I live in Japan and all my family and friends ...</td>\n",
       "      <td>2022-12-28 23:18:19</td>\n",
       "      <td>1672269499</td>\n",
       "    </tr>\n",
       "    <tr>\n",
       "      <th>998</th>\n",
       "      <td>nosurf</td>\n",
       "      <td>What are your routines going to look like goin...</td>\n",
       "      <td>I feel like this will be fun! Anyone who’d lik...</td>\n",
       "      <td>2022-12-28 23:06:16</td>\n",
       "      <td>1672268776</td>\n",
       "    </tr>\n",
       "    <tr>\n",
       "      <th>999</th>\n",
       "      <td>nosurf</td>\n",
       "      <td>internet addiction</td>\n",
       "      <td>hi, i'm a 15 year old girl who is  literally a...</td>\n",
       "      <td>2022-12-28 22:07:47</td>\n",
       "      <td>1672265267</td>\n",
       "    </tr>\n",
       "  </tbody>\n",
       "</table>\n",
       "</div>"
      ],
      "text/plain": [
       "    subreddit                                              title  \\\n",
       "995    nosurf  I’m addicted to reddit because it’s the only p...   \n",
       "996    nosurf  In couple days ill be offline for 1 year no ho...   \n",
       "997    nosurf  I live in Japan and I want to leave social med...   \n",
       "998    nosurf  What are your routines going to look like goin...   \n",
       "999    nosurf                                 internet addiction   \n",
       "\n",
       "                                              selftext     utc_datetime_str  \\\n",
       "995  TLDR: I’m living a lie, and it’s preventing me...  2022-12-28 23:38:16   \n",
       "996  so i realised how much my life is taken over b...  2022-12-28 23:33:43   \n",
       "997  I live in Japan and all my family and friends ...  2022-12-28 23:18:19   \n",
       "998  I feel like this will be fun! Anyone who’d lik...  2022-12-28 23:06:16   \n",
       "999  hi, i'm a 15 year old girl who is  literally a...  2022-12-28 22:07:47   \n",
       "\n",
       "     created_utc  \n",
       "995   1672270696  \n",
       "996   1672270423  \n",
       "997   1672269499  \n",
       "998   1672268776  \n",
       "999   1672265267  "
      ]
     },
     "execution_count": 13,
     "metadata": {},
     "output_type": "execute_result"
    }
   ],
   "source": [
    "# Check last 5 rows\n",
    "df_nosurf.tail()"
   ]
  },
  {
   "cell_type": "code",
   "execution_count": 10,
   "id": "1474bba7",
   "metadata": {},
   "outputs": [
    {
     "name": "stdout",
     "output_type": "stream",
     "text": [
      "Subreddit: stopdrinking | Number of rows: 1000\n"
     ]
    }
   ],
   "source": [
    "# Extract subreddit\n",
    "df_stopdrinking = reddit_extract('stopdrinking', 1000, '2023-03-07 00:00:00')"
   ]
  },
  {
   "cell_type": "code",
   "execution_count": 11,
   "id": "2f5345d5",
   "metadata": {},
   "outputs": [
    {
     "data": {
      "text/html": [
       "<div>\n",
       "<style scoped>\n",
       "    .dataframe tbody tr th:only-of-type {\n",
       "        vertical-align: middle;\n",
       "    }\n",
       "\n",
       "    .dataframe tbody tr th {\n",
       "        vertical-align: top;\n",
       "    }\n",
       "\n",
       "    .dataframe thead th {\n",
       "        text-align: right;\n",
       "    }\n",
       "</style>\n",
       "<table border=\"1\" class=\"dataframe\">\n",
       "  <thead>\n",
       "    <tr style=\"text-align: right;\">\n",
       "      <th></th>\n",
       "      <th>subreddit</th>\n",
       "      <th>title</th>\n",
       "      <th>selftext</th>\n",
       "      <th>utc_datetime_str</th>\n",
       "      <th>created_utc</th>\n",
       "    </tr>\n",
       "  </thead>\n",
       "  <tbody>\n",
       "    <tr>\n",
       "      <th>0</th>\n",
       "      <td>stopdrinking</td>\n",
       "      <td>$650 in booze since New Year. Yesterday was my...</td>\n",
       "      <td>[removed]</td>\n",
       "      <td>2023-03-06 15:41:40</td>\n",
       "      <td>1678117300</td>\n",
       "    </tr>\n",
       "    <tr>\n",
       "      <th>1</th>\n",
       "      <td>stopdrinking</td>\n",
       "      <td>Day 1, again and I don’t feel hopeful.</td>\n",
       "      <td>Daily beer drinker here, for over a year. Last...</td>\n",
       "      <td>2023-03-06 15:39:40</td>\n",
       "      <td>1678117180</td>\n",
       "    </tr>\n",
       "    <tr>\n",
       "      <th>2</th>\n",
       "      <td>stopdrinking</td>\n",
       "      <td>33 days, one day closer to my new high score</td>\n",
       "      <td>Hello, checking in again. I'm trying to do tha...</td>\n",
       "      <td>2023-03-06 15:38:38</td>\n",
       "      <td>1678117118</td>\n",
       "    </tr>\n",
       "    <tr>\n",
       "      <th>3</th>\n",
       "      <td>stopdrinking</td>\n",
       "      <td>Dumped a bottle of whiskey I found stashed</td>\n",
       "      <td>It’s been almost 40 days since my last relapse...</td>\n",
       "      <td>2023-03-06 15:37:04</td>\n",
       "      <td>1678117024</td>\n",
       "    </tr>\n",
       "    <tr>\n",
       "      <th>4</th>\n",
       "      <td>stopdrinking</td>\n",
       "      <td>1 year today and it has been life changing!</td>\n",
       "      <td>It was a year ago when I said “enough is enou...</td>\n",
       "      <td>2023-03-06 15:32:39</td>\n",
       "      <td>1678116759</td>\n",
       "    </tr>\n",
       "  </tbody>\n",
       "</table>\n",
       "</div>"
      ],
      "text/plain": [
       "      subreddit                                              title  \\\n",
       "0  stopdrinking  $650 in booze since New Year. Yesterday was my...   \n",
       "1  stopdrinking             Day 1, again and I don’t feel hopeful.   \n",
       "2  stopdrinking       33 days, one day closer to my new high score   \n",
       "3  stopdrinking         Dumped a bottle of whiskey I found stashed   \n",
       "4  stopdrinking        1 year today and it has been life changing!   \n",
       "\n",
       "                                            selftext     utc_datetime_str  \\\n",
       "0                                          [removed]  2023-03-06 15:41:40   \n",
       "1  Daily beer drinker here, for over a year. Last...  2023-03-06 15:39:40   \n",
       "2  Hello, checking in again. I'm trying to do tha...  2023-03-06 15:38:38   \n",
       "3  It’s been almost 40 days since my last relapse...  2023-03-06 15:37:04   \n",
       "4   It was a year ago when I said “enough is enou...  2023-03-06 15:32:39   \n",
       "\n",
       "   created_utc  \n",
       "0   1678117300  \n",
       "1   1678117180  \n",
       "2   1678117118  \n",
       "3   1678117024  \n",
       "4   1678116759  "
      ]
     },
     "execution_count": 11,
     "metadata": {},
     "output_type": "execute_result"
    }
   ],
   "source": [
    "# Check first 5 rows\n",
    "df_stopdrinking.head()"
   ]
  },
  {
   "cell_type": "code",
   "execution_count": 14,
   "id": "0224b740",
   "metadata": {},
   "outputs": [
    {
     "data": {
      "text/html": [
       "<div>\n",
       "<style scoped>\n",
       "    .dataframe tbody tr th:only-of-type {\n",
       "        vertical-align: middle;\n",
       "    }\n",
       "\n",
       "    .dataframe tbody tr th {\n",
       "        vertical-align: top;\n",
       "    }\n",
       "\n",
       "    .dataframe thead th {\n",
       "        text-align: right;\n",
       "    }\n",
       "</style>\n",
       "<table border=\"1\" class=\"dataframe\">\n",
       "  <thead>\n",
       "    <tr style=\"text-align: right;\">\n",
       "      <th></th>\n",
       "      <th>subreddit</th>\n",
       "      <th>title</th>\n",
       "      <th>selftext</th>\n",
       "      <th>utc_datetime_str</th>\n",
       "      <th>created_utc</th>\n",
       "    </tr>\n",
       "  </thead>\n",
       "  <tbody>\n",
       "    <tr>\n",
       "      <th>995</th>\n",
       "      <td>stopdrinking</td>\n",
       "      <td>I'm not having a good day</td>\n",
       "      <td>Nothing serious, just several fuck-ups on my p...</td>\n",
       "      <td>2023-03-01 14:51:31</td>\n",
       "      <td>1677682291</td>\n",
       "    </tr>\n",
       "    <tr>\n",
       "      <th>996</th>\n",
       "      <td>stopdrinking</td>\n",
       "      <td>two months</td>\n",
       "      <td>I did it. \\n\\nI drank for more years, daily, t...</td>\n",
       "      <td>2023-03-01 14:51:01</td>\n",
       "      <td>1677682261</td>\n",
       "    </tr>\n",
       "    <tr>\n",
       "      <th>997</th>\n",
       "      <td>stopdrinking</td>\n",
       "      <td>Today is 600, and life is pretty good</td>\n",
       "      <td>If I can get here, you can too. I didn't get h...</td>\n",
       "      <td>2023-03-01 14:48:35</td>\n",
       "      <td>1677682115</td>\n",
       "    </tr>\n",
       "    <tr>\n",
       "      <th>998</th>\n",
       "      <td>stopdrinking</td>\n",
       "      <td>Triple. Digits!!!</td>\n",
       "      <td>Nuff said :)</td>\n",
       "      <td>2023-03-01 14:48:27</td>\n",
       "      <td>1677682107</td>\n",
       "    </tr>\n",
       "    <tr>\n",
       "      <th>999</th>\n",
       "      <td>stopdrinking</td>\n",
       "      <td>Is it safe to stop cold turkey after nearly 2 ...</td>\n",
       "      <td>[removed]</td>\n",
       "      <td>2023-03-01 14:41:35</td>\n",
       "      <td>1677681695</td>\n",
       "    </tr>\n",
       "  </tbody>\n",
       "</table>\n",
       "</div>"
      ],
      "text/plain": [
       "        subreddit                                              title  \\\n",
       "995  stopdrinking                          I'm not having a good day   \n",
       "996  stopdrinking                                         two months   \n",
       "997  stopdrinking              Today is 600, and life is pretty good   \n",
       "998  stopdrinking                                  Triple. Digits!!!   \n",
       "999  stopdrinking  Is it safe to stop cold turkey after nearly 2 ...   \n",
       "\n",
       "                                              selftext     utc_datetime_str  \\\n",
       "995  Nothing serious, just several fuck-ups on my p...  2023-03-01 14:51:31   \n",
       "996  I did it. \\n\\nI drank for more years, daily, t...  2023-03-01 14:51:01   \n",
       "997  If I can get here, you can too. I didn't get h...  2023-03-01 14:48:35   \n",
       "998                                       Nuff said :)  2023-03-01 14:48:27   \n",
       "999                                          [removed]  2023-03-01 14:41:35   \n",
       "\n",
       "     created_utc  \n",
       "995   1677682291  \n",
       "996   1677682261  \n",
       "997   1677682115  \n",
       "998   1677682107  \n",
       "999   1677681695  "
      ]
     },
     "execution_count": 14,
     "metadata": {},
     "output_type": "execute_result"
    }
   ],
   "source": [
    "# Check last 5 rows\n",
    "df_stopdrinking.tail()"
   ]
  },
  {
   "cell_type": "markdown",
   "id": "1bfe72af",
   "metadata": {},
   "source": [
    "Noted that posts for stopdrinking is between 1 Mar 23 to 6 Mar 23, while posts for nosurf is between 28 Dec 23 to 6 Mar 23.\n",
    "Since content of habits/addiction related posts should not vary much across dates posted, we will not be too concerned about the dates and would keep equal number of posts for comparison as far as possible."
   ]
  },
  {
   "cell_type": "code",
   "execution_count": 12,
   "id": "bad302d5",
   "metadata": {},
   "outputs": [],
   "source": [
    "# Export to csv\n",
    "df_nosurf.to_csv(\"data/data_nosurf.csv\", index=False, encoding='utf-8-sig')\n",
    "df_stopdrinking.to_csv(\"data/data_stopdrinking.csv\", index=False, encoding='utf-8-sig')"
   ]
  }
 ],
 "metadata": {
  "kernelspec": {
   "display_name": "Python 3 (ipykernel)",
   "language": "python",
   "name": "python3"
  },
  "language_info": {
   "codemirror_mode": {
    "name": "ipython",
    "version": 3
   },
   "file_extension": ".py",
   "mimetype": "text/x-python",
   "name": "python",
   "nbconvert_exporter": "python",
   "pygments_lexer": "ipython3",
   "version": "3.9.13"
  }
 },
 "nbformat": 4,
 "nbformat_minor": 5
}
